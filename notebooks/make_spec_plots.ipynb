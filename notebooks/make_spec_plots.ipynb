{
 "cells": [
  {
   "cell_type": "markdown",
   "metadata": {},
   "source": [
    "# Spectral Plots\n",
    "\n",
    "Notes\n",
    "- some lines when too close are not labeled (minLineSep)\n",
    "- TOOD: x1 and x2 are not the same, but shifted so might need to interpolate? Check shifting carefully\n",
    "- consistent colors for kronos and krios across *all* plots"
   ]
  },
  {
   "cell_type": "code",
   "execution_count": null,
   "metadata": {
    "collapsed": true
   },
   "outputs": [],
   "source": [
    "import palettable"
   ]
  },
  {
   "cell_type": "code",
   "execution_count": null,
   "metadata": {
    "collapsed": false
   },
   "outputs": [],
   "source": [
    "palettable.colorbrewer.qualitative.Paired_12.show_discrete_image()"
   ]
  },
  {
   "cell_type": "code",
   "execution_count": null,
   "metadata": {
    "collapsed": true
   },
   "outputs": [],
   "source": [
    "from __future__ import division # to get float division with ints\n",
    "\n",
    "# Import readsav so we can read IDL Save Files\n",
    "import warnings\n",
    "from scipy.io import readsav\n",
    "warnings.filterwarnings('ignore', message=\"warning: empty strings\")\n",
    "\n",
    "import numpy as np\n",
    "%matplotlib inline\n",
    "import matplotlib as mpl\n",
    "import matplotlib.pyplot as plt\n",
    "from matplotlib.backends.backend_pdf import PdfPages\n",
    "\n",
    "import re"
   ]
  },
  {
   "cell_type": "code",
   "execution_count": null,
   "metadata": {
    "collapsed": true
   },
   "outputs": [],
   "source": [
    "plt.style.use('notebook.mplstyle')"
   ]
  },
  {
   "cell_type": "code",
   "execution_count": null,
   "metadata": {
    "collapsed": true
   },
   "outputs": [],
   "source": [
    "import specplot"
   ]
  },
  {
   "cell_type": "code",
   "execution_count": null,
   "metadata": {
    "collapsed": false
   },
   "outputs": [],
   "source": [
    "krios = specplot.SpecPlot('../data/240429_rj211.86/iter1_abund.out')\n",
    "kronos = specplot.SpecPlot('../data/240430_rj211.85/iter1_abund.out')"
   ]
  },
  {
   "cell_type": "code",
   "execution_count": null,
   "metadata": {
    "collapsed": false
   },
   "outputs": [],
   "source": [
    "segIdx = krios.getGoodSegs('Na')\n",
    "markLines = krios.getLinesToMark(10, ['Na 1', 'Fe 1', 'Si 1', 'Ca 1'], minDepth=0)"
   ]
  },
  {
   "cell_type": "code",
   "execution_count": null,
   "metadata": {
    "collapsed": false
   },
   "outputs": [],
   "source": [
    "seg, wrange, elems = 9, (6154.22-0.5, 6154.22+2), ['Na 1', 'Fe 1', 'Si 1', 'Ca 1']\n",
    "seg, wrange, elems = 10, (6160.7487-0.5, 6161.7), ['Na 1', 'Fe 1', 'Si 1', 'Ca 1']"
   ]
  },
  {
   "cell_type": "code",
   "execution_count": null,
   "metadata": {
    "collapsed": true
   },
   "outputs": [],
   "source": [
    "import pandas as pd"
   ]
  },
  {
   "cell_type": "code",
   "execution_count": null,
   "metadata": {
    "collapsed": false
   },
   "outputs": [],
   "source": [
    "df = pd.DataFrame()\n",
    "df['species'] = [s.decode() for s in krios.spec.species[0]]\n",
    "df['depth'] = krios.spec.depth[0]\n",
    "df['wave'] = krios.spec.atomic[0][:,2]"
   ]
  },
  {
   "cell_type": "code",
   "execution_count": null,
   "metadata": {
    "collapsed": false
   },
   "outputs": [],
   "source": [
    "def get_segidx(wave):\n",
    "    idx = np.where((krios.wran[:,0] <= wave) & (wave <= krios.wran[:,1]))[0]\n",
    "    if idx.size == 0:\n",
    "        return -1\n",
    "    return idx[0]\n",
    "segidx = list(map(get_segidx, df.wave))\n",
    "df['segidx'] = segidx"
   ]
  },
  {
   "cell_type": "code",
   "execution_count": null,
   "metadata": {
    "collapsed": true
   },
   "outputs": [],
   "source": [
    "elements = ['C', 'N', 'O', 'Na', 'Mg', 'Al', 'Si', 'Ca',\n",
    "            'Ti', 'V', 'Cr', 'Mn', 'Ni', 'Y']"
   ]
  },
  {
   "cell_type": "code",
   "execution_count": null,
   "metadata": {
    "collapsed": false
   },
   "outputs": [],
   "source": [
    "df['elem'] = df.species.str.extract('([a-zA-z0-9]+) [1-9]')\n",
    "print(df.elem.describe())"
   ]
  },
  {
   "cell_type": "code",
   "execution_count": null,
   "metadata": {
    "collapsed": false
   },
   "outputs": [],
   "source": [
    "in_catalog = np.array([elem in elements for elem in df.elem])"
   ]
  },
  {
   "cell_type": "code",
   "execution_count": null,
   "metadata": {
    "collapsed": false
   },
   "outputs": [],
   "source": [
    "df_in_catalog = df.loc[in_catalog]"
   ]
  },
  {
   "cell_type": "code",
   "execution_count": null,
   "metadata": {
    "collapsed": false
   },
   "outputs": [],
   "source": [
    "df_in_catalog.loc[df_in_catalog.depth>0.25].elem.value_counts()"
   ]
  },
  {
   "cell_type": "code",
   "execution_count": null,
   "metadata": {
    "collapsed": false
   },
   "outputs": [],
   "source": [
    "df.loc[(df.segidx == 0) & (df.depth>0.25) & in_catalog].sort_values('depth').species.values"
   ]
  },
  {
   "cell_type": "code",
   "execution_count": null,
   "metadata": {
    "collapsed": true
   },
   "outputs": [],
   "source": [
    "4, [6016.67-1, 6016.67+1], ['Mn 1', 'Fe 1']"
   ]
  },
  {
   "cell_type": "code",
   "execution_count": null,
   "metadata": {
    "collapsed": false
   },
   "outputs": [],
   "source": [
    "krios_model_color = '#1F78B4'\n",
    "krios_data_color = '#A6CEE3'\n",
    "kronos_model_color = '#E31A1C'\n",
    "kronos_data_color = '#FB9A99'\n",
    "\n",
    "\n",
    "def plotKKSpec(ax, seg, wrange, elems, minDepth=0.25):\n",
    "    from matplotlib.ticker import MaxNLocator\n",
    "    from mpl_toolkits.axes_grid1 import make_axes_locatable\n",
    "    if len(elems)>0:\n",
    "        markLines=krios.getLinesToMark(seg, elems, minDepth=minDepth)\n",
    "    else:\n",
    "        markLines = []\n",
    "\n",
    "    krios.plotSeg(seg, wrange, showLines=markLines, ax=ax, labelSpeciesOnly=True,\n",
    "                  modColor=krios_model_color, obsColor=krios_data_color,\n",
    "                  modWidth=1);\n",
    "    kronos.plotSeg(seg, wrange, showLines=markLines, ax=ax, labelSpeciesOnly=True,\n",
    "                   modColor=kronos_model_color, obsColor=kronos_data_color,\n",
    "                   modWidth=1);\n",
    "\n",
    "    divider = make_axes_locatable(ax)\n",
    "    ax_diff = divider.new_vertical(size=\"100%\", pad=0.1, pack_start=True)\n",
    "    fig.add_axes(ax_diff)\n",
    "    # TODO: x1 and x2 are not the same, but shifted so might need to interpolate?\n",
    "    x1, y1 = krios.lineObs.get_data()\n",
    "    x2, y2 = kronos.lineObs.get_data()\n",
    "    xm1, ym1 = krios.lineModel.get_data()\n",
    "    xm2, ym2 = kronos.lineModel.get_data()\n",
    "    # ax_diff.plot(x1, y2-y1, 'k.-', xm1, ym2-ym1, 'b-')\n",
    "    ax_diff.plot(x1, y2/y1, '-', color='#999999')\n",
    "    ax_diff.plot(xm1, ym2/ym1, 'k-', lw=1)\n",
    "    ax_diff.axhline(0, ls='-', c='k', zorder=-50)\n",
    "    ax.set_xticklabels([])\n",
    "    ax_diff.set_xlim(ax.get_xlim())\n",
    "    ax_diff.get_xaxis().get_major_formatter().set_useOffset(False)\n",
    "    ax_diff.set_ylim(0.8,1.1)\n",
    "    ax.yaxis.set_major_locator(MaxNLocator(nbins=5, prune='lower'))\n",
    "    ax_diff.yaxis.set_major_locator(MaxNLocator(nbins=5, prune='lower'))\n",
    "    return ax, ax_diff"
   ]
  },
  {
   "cell_type": "code",
   "execution_count": null,
   "metadata": {
    "collapsed": false
   },
   "outputs": [],
   "source": [
    "plt.legend?"
   ]
  },
  {
   "cell_type": "code",
   "execution_count": null,
   "metadata": {
    "collapsed": false,
    "scrolled": false
   },
   "outputs": [],
   "source": [
    "fig, ax = plt.subplots(3, 1, figsize=(8,10), dpi=150)\n",
    "fig.subplots_adjust(bottom=0.07, left=0.15, top=0.92, right=0.95, hspace=0.12)\n",
    "\n",
    "elems = df.loc[(df.segidx == 9) & (df.depth>0.5) & (in_catalog)].sort_values('depth').species.values\n",
    "\n",
    "cax0, cax_diff = plotKKSpec(ax[0], 0, krios.wran[0], [])\n",
    "list(map(lambda x: x.set_xticks([5165, 5170, 5175, 5180, 5185]), [cax0, cax_diff]));\n",
    "cax, cax_diff = plotKKSpec(ax[1], 1, krios.wran[1], [])\n",
    "list(map(lambda x: x.set_xticks([5195, 5200, 5205]), [cax, cax_diff]));\n",
    "cax, cax_diff = plotKKSpec(ax[2], 2, krios.wran[2], [])\n",
    "\n",
    "cax_diff.set_xlabel('wavelength ($\\AA$)')\n",
    "fig.text(0.05, 0.55, \"Residual intensity (ratio)\",\n",
    "         rotation=90, va='center', ha='center', size=25)\n",
    "\n",
    "handles=[\n",
    "    plt.Line2D([],[], linewidth=2, color=krios_data_color),\n",
    "    plt.Line2D([],[], linewidth=1, color=krios_model_color),\n",
    "    plt.Line2D([],[], linewidth=2, color=kronos_data_color),\n",
    "    plt.Line2D([],[], linewidth=1, color=kronos_model_color)]\n",
    "fig.legend(handles, ['Krios data', 'Krios model', 'Kronos data', 'Kronos model'],\n",
    "           loc=(0.495, 0.932), ncol=2,\n",
    "          )\n",
    "\n",
    "fig.savefig('../paper/figures/spec1.pdf')"
   ]
  },
  {
   "cell_type": "code",
   "execution_count": null,
   "metadata": {
    "collapsed": false
   },
   "outputs": [],
   "source": [
    "in_catalog.sum()"
   ]
  },
  {
   "cell_type": "code",
   "execution_count": null,
   "metadata": {
    "collapsed": true
   },
   "outputs": [],
   "source": []
  },
  {
   "cell_type": "code",
   "execution_count": null,
   "metadata": {
    "collapsed": false,
    "scrolled": true
   },
   "outputs": [],
   "source": [
    "df.loc[(df.segidx == 4) & (df.depth>0.25) & ((in_catalog)|(df.species=='Fe 1'))].species.values"
   ]
  },
  {
   "cell_type": "code",
   "execution_count": null,
   "metadata": {
    "collapsed": true
   },
   "outputs": [],
   "source": [
    "from matplotlib.ticker import MaxNLocator"
   ]
  },
  {
   "cell_type": "code",
   "execution_count": null,
   "metadata": {
    "collapsed": true
   },
   "outputs": [],
   "source": [
    "cax.tick_params()"
   ]
  },
  {
   "cell_type": "code",
   "execution_count": null,
   "metadata": {
    "collapsed": false
   },
   "outputs": [],
   "source": [
    "plt.rcParams['axes.labelsize']"
   ]
  },
  {
   "cell_type": "code",
   "execution_count": null,
   "metadata": {
    "collapsed": false
   },
   "outputs": [],
   "source": [
    "fig, ax = plt.subplots(figsize=(8,6), dpi=150)\n",
    "elems = df.loc[(df.segidx == 4) & (df.depth>0.25) & (in_catalog)].species.unique()\n",
    "elems = df.loc[(df.segidx == 4) & (df.depth>0.25) & ((in_catalog)|(df.species=='Fe 1'))].species.unique()\n",
    "cax, cax_diff = plotKKSpec(ax, 4, [6015.7,6024.5], ['Mn 1', 'Fe 1'], minDepth=0.1)\n",
    "cax.xaxis.set_major_locator(MaxNLocator(2))"
   ]
  },
  {
   "cell_type": "code",
   "execution_count": null,
   "metadata": {
    "collapsed": false
   },
   "outputs": [],
   "source": [
    "fig, ax = plt.subplots(figsize=(8,6))\n",
    "elems = df.loc[(df.segidx == 8) & (df.depth>0.25) & (in_catalog)].species.unique()\n",
    "elems = df.loc[(df.segidx == 8) & (df.depth>0.25) & ((in_catalog)|(df.species=='Fe 1'))].species.values\n",
    "cax, cax_diff = plotKKSpec(ax, 8, [6121,6124], elems)\n",
    "cax.set_ylim(cax.get_ylim()[0], 1.7)\n",
    "cax_diff.xaxis.set_major_locator(MaxNLocator(2))"
   ]
  },
  {
   "cell_type": "code",
   "execution_count": null,
   "metadata": {
    "collapsed": false
   },
   "outputs": [],
   "source": [
    "fig, ax = plt.subplots(figsize=(8,6))\n",
    "\n",
    "elems = df.loc[(df.segidx == 9) & (df.depth>0.5) & ((in_catalog)|(df.species=='Fe 1'))].species.values\n",
    "cax, cax_diff = plotKKSpec(ax, 9, [6153, 6157], elems)\n",
    "cax_diff.xaxis.set_major_locator(MaxNLocator(2))"
   ]
  },
  {
   "cell_type": "code",
   "execution_count": null,
   "metadata": {
    "collapsed": true
   },
   "outputs": [],
   "source": [
    "fig, ax = plt.subplots(figsize=(8,6))\n",
    "\n",
    "elems = df.loc[(df.segidx == 14) & (df.depth>0.5) & ((in_catalog)|(df.species=='Fe 1'))].species.values\n",
    "cax, cax_diff = plotKKSpec(ax, 9, [6153, 6157], elems)\n",
    "cax_diff.xaxis.set_major_locator(MaxNLocator(2))"
   ]
  },
  {
   "cell_type": "code",
   "execution_count": null,
   "metadata": {
    "collapsed": false
   },
   "outputs": [],
   "source": [
    "plt.plot(krios.spec.wave[0])"
   ]
  },
  {
   "cell_type": "code",
   "execution_count": null,
   "metadata": {
    "collapsed": false
   },
   "outputs": [],
   "source": [
    "style = {\n",
    "    'xtick.labelsize' : 15,\n",
    "    'ytick.labelsize' : 15\n",
    "}\n",
    "\n",
    "with plt.style.context(style):\n",
    "    fig = plt.figure(figsize=(10,6), dpi=100)\n",
    "    fig.subplots_adjust(bottom=0.12, left=0.12, top=0.96, right=0.95, hspace=0.15)\n",
    "\n",
    "    # First row\n",
    "    ax = plt.subplot2grid((2, 12), (0, 0), colspan=3)\n",
    "    elems = df.loc[(df.segidx == 8) & (df.depth>0.25) & ((in_catalog)|(df.species=='Fe 1'))].species.values\n",
    "    cax, cax_diff = plotKKSpec(ax, 8, [6121,6124], elems)\n",
    "    cax.set_ylim(0.1, 1.8)\n",
    "    list(map(lambda x: x.set_xticks([6122, 6123]), [cax, cax_diff]));\n",
    "    \n",
    "    ax = plt.subplot2grid((2, 12), (0, 3), colspan=3)\n",
    "    elems = df.loc[(df.segidx == 9) & (df.depth>0.25) & ((in_catalog)|(df.species=='Fe 1'))].species.values\n",
    "    cax, cax_diff = plotKKSpec(ax, 9, [6153, 6157], elems)\n",
    "    cax.set_ylim(0.1, 1.8)\n",
    "    list(map(lambda x: x.set_xticks([6154, 6156]), [cax, cax_diff]));\n",
    "    list(map(lambda x: x.set_yticklabels([]), [cax, cax_diff]));\n",
    "\n",
    "    ax = plt.subplot2grid((2, 12), (0, 6), colspan=6)\n",
    "    elems = df.loc[(df.segidx == 10) & (df.depth>0.25) & ((in_catalog))].species.unique()\n",
    "    cax, cax_diff = plotKKSpec(ax, 10, [6160, 6170], elems)\n",
    "    cax.set_ylim(0.1, 1.8)\n",
    "    list(map(lambda x: x.set_xticks([6162, 6164, 6166, 6168]), [cax, cax_diff]));\n",
    "    list(map(lambda x: x.set_yticklabels([]), [cax, cax_diff]));\n",
    "\n",
    "    # Second row\n",
    "    ax = plt.subplot2grid((2, 12), (1, 0), colspan=4)\n",
    "    elems = df.loc[(df.segidx == 12) & (df.depth>0.25) & ((in_catalog)|(df.species=='Fe 1'))].species.unique()\n",
    "    cax, cax_diff = plotKKSpec(ax, 12, [6317.5, 6320], elems)\n",
    "    cax.set_ylim(0.3, 1.6)\n",
    "    list(map(lambda x: x.set_xticks([6318, 6319]), [cax, cax_diff]));\n",
    "    \n",
    "    ax = plt.subplot2grid((2, 12), (1, 4), colspan=4)\n",
    "    seg, wrange = 14, [6695.5, 6700]\n",
    "    elems = df.loc[(df.segidx == seg) & (df.depth>0.25) & ((in_catalog)|(df.species=='Fe 1'))].species.unique()\n",
    "    cax, cax_diff = plotKKSpec(ax, seg, wrange, elems)\n",
    "    cax.set_ylim(0.3, 1.6)\n",
    "    list(map(lambda x: x.set_xticks([6696, 6698]), [cax, cax_diff]));\n",
    "    list(map(lambda x: x.set_yticklabels([]), [cax, cax_diff]));\n",
    "\n",
    "    ax = plt.subplot2grid((2, 12), (1, 8), colspan=4)\n",
    "    seg, wrange = 19, [7771, 7782]\n",
    "    elems = df.loc[(df.segidx == seg) & (df.depth>0.25) & ((in_catalog)|(df.species=='Fe 1'))].species.unique()\n",
    "    cax, cax_diff = plotKKSpec(ax, seg, wrange, elems)\n",
    "    cax.set_ylim(0.3, 1.6)\n",
    "    list(map(lambda x: x.set_xticks([7775, 7780]), [cax, cax_diff]));\n",
    "    list(map(lambda x: x.set_yticklabels([]), [cax, cax_diff]));\n",
    "\n",
    "    \n",
    "    # cax, cax_diff = plotKKSpec(ax[1], 1, krios.wran[1], [])\n",
    "    # cax_diff.set_xticks([5190, 5195, 5200, 5205])\n",
    "    # cax, cax_diff = plotKKSpec(ax[2], 2, krios.wran[2], [])\n",
    "\n",
    "#     cax_diff.set_xlabel('wavelength ($\\AA$)')\n",
    "    fig.text(0.55, 0.05, \"wavelength ($\\AA$)\",\n",
    "             va='center', ha='center', size=25)\n",
    "    fig.text(0.04, 0.55, \"Residual intensity (ratio)\",\n",
    "             rotation=90, va='center', ha='center', size=25)\n",
    "\n",
    "    fig.savefig('../paper/figures/spec2.pdf')"
   ]
  }
 ],
 "metadata": {
  "anaconda-cloud": {},
  "kernelspec": {
   "display_name": "Python [conda env:gwb]",
   "language": "python",
   "name": "conda-env-gwb-py"
  },
  "language_info": {
   "codemirror_mode": {
    "name": "ipython",
    "version": 3
   },
   "file_extension": ".py",
   "mimetype": "text/x-python",
   "name": "python",
   "nbconvert_exporter": "python",
   "pygments_lexer": "ipython3",
   "version": "3.5.2"
  }
 },
 "nbformat": 4,
 "nbformat_minor": 0
}
