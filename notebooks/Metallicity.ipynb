{
 "cells": [
  {
   "cell_type": "code",
   "execution_count": 58,
   "metadata": {
    "collapsed": true
   },
   "outputs": [],
   "source": [
    "import astropy.units as u\n",
    "import numpy as np"
   ]
  },
  {
   "cell_type": "markdown",
   "metadata": {},
   "source": [
    "The increase in metallicity, $\\Delta[{\\rm Fe}/{\\rm H}]$, can be expressed in terms of the current elemental abundances relative to the initial abundances (init):\n",
    "\n",
    "$$\n",
    "\\Delta[{\\rm Fe}/{\\rm H}] = \\log_{10}\\left(\\frac{N_{\\rm Fe}}{N_{\\rm H}} \\right) \n",
    "    - \\log_{10}\\left(\\frac{N_{\\rm Fe}}{N_{\\rm H}} \\right)_{\\rm init}\n",
    "$$\n",
    "\n",
    "If we assume that the initial abundances are Solar (like HD 240429), then:\n",
    "\n",
    "$$\n",
    "\\log_{10}\\left(\\frac{N_{\\rm Fe}}{N_{\\rm H}} \\right)_{\\rm init} =\n",
    "    \\log_{10}\\left(\\frac{N_{\\rm Fe}}{N_{\\rm H}} \\right)_\\odot\n",
    "$$\n",
    "\n",
    "Defining $\\mu = \\frac{m_{\\rm H}}{m_{\\rm Fe}}$ as the mass ratio of a Hydrogen atom to an Iron atom, and $M_{\\rm H}$ and $M_{\\rm Fe}$ as the total mass in Hydrogen or Iron in the convective zone, we can write:\n",
    "\n",
    "$$\n",
    "\\frac{N_{\\rm Fe}}{N_{\\rm H}} = \\mu \\, \\frac{M_{\\rm Fe}}{M_{\\rm H}}\n",
    "$$\n",
    "\n",
    "so that:\n",
    "\n",
    "$$\n",
    "\\Delta[{\\rm Fe}/{\\rm H}] = \\log_{10}\\left(\\frac{M_{\\rm Fe}}{M_{\\rm H}} \\right) \n",
    "    - \\log_{10}\\left(\\frac{M_{\\rm Fe}}{M_{\\rm H}} \\right)_\\odot\n",
    "$$\n",
    "\n",
    "If $f_{cz}$ as the fractional mass in the convective zone, $M_{\\rm H} = X\\,f_{cz}\\,{\\rm M}_\\odot$, where $X$ is the fractional mass in Hydrogen for the star. If we assume $X=X_\\odot=0.7381$, we can compute the amount of Iron we'd need to add at fixed $M_{\\rm H}$, which is a lower-limit to the amount of rocky mass that must have accreted onto the convective zone of the star HD 240430."
   ]
  },
  {
   "cell_type": "code",
   "execution_count": 59,
   "metadata": {
    "collapsed": true
   },
   "outputs": [],
   "source": [
    "dM_H = 0.2\n",
    "f_cz = 0.03 # solar mass, Pinsonneault et al. 2001??\n",
    "\n",
    "Z_sun = 0.0134\n",
    "X_sun = 0.7381"
   ]
  },
  {
   "cell_type": "code",
   "execution_count": 61,
   "metadata": {},
   "outputs": [
    {
     "data": {
      "text/latex": [
       "$212.1304 \\; \\mathrm{M_{\\oplus}}$"
      ],
      "text/plain": [
       "<Quantity 212.13040101570232 earthMass>"
      ]
     },
     "execution_count": 61,
     "metadata": {},
     "output_type": "execute_result"
    }
   ],
   "source": [
    "C = np.log10(Z_sun / X_sun)\n",
    "M_H = X_sun * f_cz * 1.*u.Msun\n",
    "\n",
    "M_Fe = M_H * 10**(dM_H + C)\n",
    "M_Fe.to(u.Mearth)"
   ]
  },
  {
   "cell_type": "code",
   "execution_count": null,
   "metadata": {
    "collapsed": true
   },
   "outputs": [],
   "source": []
  }
 ],
 "metadata": {
  "anaconda-cloud": {},
  "kernelspec": {
   "display_name": "Python [default]",
   "language": "python",
   "name": "python3"
  },
  "language_info": {
   "codemirror_mode": {
    "name": "ipython",
    "version": 3
   },
   "file_extension": ".py",
   "mimetype": "text/x-python",
   "name": "python",
   "nbconvert_exporter": "python",
   "pygments_lexer": "ipython3",
   "version": "3.5.2"
  }
 },
 "nbformat": 4,
 "nbformat_minor": 2
}
