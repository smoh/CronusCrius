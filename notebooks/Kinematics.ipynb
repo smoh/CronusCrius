{
 "cells": [
  {
   "cell_type": "code",
   "execution_count": null,
   "metadata": {
    "collapsed": true
   },
   "outputs": [],
   "source": [
    "# Third-party\n",
    "from astropy.table import Table\n",
    "import astropy.coordinates as coord\n",
    "import astropy.units as u\n",
    "import matplotlib.pyplot as plt\n",
    "import numpy as np\n",
    "plt.style.use('../notebook/notebook.mplstyle')\n",
    "%matplotlib inline\n",
    "import corner\n",
    "import emcee\n",
    "from scipy.integrate import quad\n",
    "\n",
    "# Custom\n",
    "import gala.coordinates as gc\n",
    "import gala.dynamics as gd\n",
    "import gala.integrate as gi\n",
    "import gala.potential as gp\n",
    "from gala.units import galactic"
   ]
  },
  {
   "cell_type": "code",
   "execution_count": null,
   "metadata": {
    "collapsed": true
   },
   "outputs": [],
   "source": [
    "colors = ['#3182bd', '#de2d26']\n",
    "gc_frame = coord.Galactocentric(z_sun=0*u.pc)\n",
    "vlsr = [10., 24., 7.17] * u.km/u.s\n",
    "vcirc = 220 * u.km/u.s"
   ]
  },
  {
   "cell_type": "code",
   "execution_count": null,
   "metadata": {
    "collapsed": true
   },
   "outputs": [],
   "source": [
    "tgas = Table.read('../../gaia-comoving-stars/data/stacked_tgas.fits')\n",
    "ID_tbl = Table.read('../../gaia-comoving-followup/data/star_identifier.csv')"
   ]
  },
  {
   "cell_type": "code",
   "execution_count": null,
   "metadata": {
    "collapsed": true
   },
   "outputs": [],
   "source": [
    "star1_idx = ID_tbl[ID_tbl['name'] == 'TYC 4013-1381-1']['tgas_row']\n",
    "star2_idx = ID_tbl[ID_tbl['name'] == 'TYC 4013-763-1']['tgas_row']\n",
    "\n",
    "star1_tgas = tgas[star1_idx[0]]\n",
    "star2_tgas = tgas[star2_idx[0]]"
   ]
  },
  {
   "cell_type": "code",
   "execution_count": null,
   "metadata": {},
   "outputs": [],
   "source": [
    "star1_idx, star2_idx"
   ]
  },
  {
   "cell_type": "code",
   "execution_count": null,
   "metadata": {
    "collapsed": true
   },
   "outputs": [],
   "source": [
    "rows = [star1_tgas, star2_tgas]"
   ]
  },
  {
   "cell_type": "code",
   "execution_count": null,
   "metadata": {
    "collapsed": true
   },
   "outputs": [],
   "source": [
    "def get_cov(row, names=['parallax', 'pmra', 'pmdec']):\n",
    "    C = np.zeros((len(names), len(names)))\n",
    "\n",
    "    # pre-load the diagonal\n",
    "    for i,name in enumerate(names):\n",
    "        full_name = \"{}_error\".format(name)\n",
    "        C[i,i] = row[full_name]**2\n",
    "\n",
    "    for i,name1 in enumerate(names):\n",
    "        for j,name2 in enumerate(names):\n",
    "            if j <= i:\n",
    "                continue\n",
    "            full_name = \"{}_{}_corr\".format(name1, name2)\n",
    "            C[i,j] = row[full_name] * np.sqrt(C[i,i]*C[j,j])\n",
    "            C[j,i] = row[full_name] * np.sqrt(C[i,i]*C[j,j])\n",
    "            \n",
    "    return C"
   ]
  },
  {
   "cell_type": "code",
   "execution_count": null,
   "metadata": {
    "collapsed": true
   },
   "outputs": [],
   "source": [
    "# skyc1, xyz1, vxyz1 = get_samples(star1_tgas, galactocentric_frame=gc_frame, vlsr=vlsr, size=100000)\n",
    "# skyc2, xyz2, vxyz2 = get_samples(star2_tgas, galactocentric_frame=gc_frame, vlsr=vlsr, size=100000)"
   ]
  },
  {
   "cell_type": "markdown",
   "metadata": {},
   "source": [
    "# Posterior predictions"
   ]
  },
  {
   "cell_type": "code",
   "execution_count": null,
   "metadata": {
    "collapsed": true
   },
   "outputs": [],
   "source": [
    "class ProbModel(object):\n",
    "    \n",
    "    def __init__(self, skycoord, parallax, pm, rv, Cov, sigma_v=15.):\n",
    "        \"\"\" \n",
    "        We store the data as attributes of the object so we don't have to \n",
    "        keep passing it in to the methods that compute the probabilities.\n",
    "        \"\"\"\n",
    "        \n",
    "        self.ra = np.asarray(skycoord.ra.radian)\n",
    "        self.dec = np.asarray(skycoord.dec.radian)\n",
    "        self.parallax = parallax.to(u.mas).value # 1000/r (r in pc) = parallax\n",
    "        self.pm_ra = pm[0].to(u.mas/u.year).value # multiply by 4.7404705E-3 to get km/s\n",
    "        self.pm_dec = pm[1].to(u.mas/u.year).value\n",
    "        self.rv = rv.to(u.km/u.s).value\n",
    "        \n",
    "        self.Cinv = np.linalg.inv(Cov)\n",
    "        \n",
    "        self.sigma_v = sigma_v # km/s\n",
    "\n",
    "    def ln_likelihood(self, pars):\n",
    "        r, v_ra, v_dec, rv = pars\n",
    "        # pc, km/s, km/s, km/s\n",
    "        \n",
    "        y = np.array([self.parallax, self.pm_ra, self.pm_dec, self.rv])\n",
    "        y_hat = np.array([1000./r, 210.94953*v_ra/r, 210.94953*v_dec/r, rv])\n",
    "        \n",
    "        dy = (y - y_hat)\n",
    "        _,det_Cinv = np.linalg.slogdet(self.Cinv/(2*np.pi))\n",
    "        return 0.5 * det_Cinv - 0.5 * (dy.T @ self.Cinv @ dy)\n",
    "\n",
    "    def ln_prior(self, pars):\n",
    "        r, v_ra, v_dec, rv = pars\n",
    "        # pc, km/s, km/s, km/s\n",
    "        \n",
    "        lp = 0.\n",
    "        \n",
    "        v = np.array([v_ra, v_dec, rv])\n",
    "        lp += -0.5 * np.sum(v**2 / self.sigma_v**2)\n",
    "        \n",
    "        r_lim = 300. # pc\n",
    "        if r > r_lim:\n",
    "            return -np.inf\n",
    "        lp += np.log(3/r_lim**3) + 2*np.log(r)\n",
    "        \n",
    "        return lp\n",
    "        \n",
    "    def ln_posterior(self, pars):\n",
    "        \"\"\" \n",
    "        Up to a normalization constant, the log of the posterior pdf is just \n",
    "        the sum of the log likelihood plus the log prior.\n",
    "        \"\"\"\n",
    "        lnp = self.ln_prior(pars)\n",
    "        if np.isinf(lnp): # short-circuit if the prior is infinite (don't bother computing likelihood)\n",
    "            return lnp\n",
    "\n",
    "        lnL = self.ln_likelihood(pars).sum()\n",
    "        lnprob = lnp + lnL\n",
    "\n",
    "        if np.isnan(lnprob):\n",
    "            return -np.inf\n",
    "\n",
    "        return lnprob\n",
    "    \n",
    "    def __call__(self, pars):\n",
    "        return self.ln_posterior(pars)"
   ]
  },
  {
   "cell_type": "code",
   "execution_count": null,
   "metadata": {
    "collapsed": true
   },
   "outputs": [],
   "source": [
    "rv = -21.2 * u.km/u.s\n",
    "rv_err = 0.1 * u.km/u.s"
   ]
  },
  {
   "cell_type": "code",
   "execution_count": null,
   "metadata": {
    "collapsed": true
   },
   "outputs": [],
   "source": [
    "nwalkers = 32\n",
    "\n",
    "flatchains = []\n",
    "for row in [star1_tgas, star2_tgas]:\n",
    "    Cov = np.zeros((4,4))\n",
    "    Cov[:3,:3] = get_cov(row, names=['parallax', 'pmra', 'pmdec'])\n",
    "    Cov[3,3] = rv_err.to(u.km/u.s).value**2\n",
    "\n",
    "    skyc = coord.SkyCoord(ra=row['ra']*u.deg, dec=row['dec']*u.deg)\n",
    "                          \n",
    "    pm = [row['pmra'], row['pmdec']]*u.mas/u.yr\n",
    "    model = ProbModel(skyc, row['parallax']*u.mas, \n",
    "                      pm, rv, Cov, sigma_v=25.)\n",
    "\n",
    "    _d = 1000./row['parallax']\n",
    "    p0 = np.array([_d, (pm[0]*_d*u.pc).to(u.km/u.s, u.dimensionless_angles()).value, \n",
    "                   (pm[1]*_d*u.pc).to(u.km/u.s, u.dimensionless_angles()).value, rv.value])\n",
    "\n",
    "    ndim = len(p0)\n",
    "    sampler = emcee.EnsembleSampler(nwalkers=nwalkers, dim=ndim, lnpostfn=model)\n",
    "\n",
    "    p0s = emcee.utils.sample_ball(p0, std=1E-5*p0, size=nwalkers)\n",
    "\n",
    "    pos,_,_ = sampler.run_mcmc(p0s, 512)\n",
    "    sampler.reset()\n",
    "    pos,_,_ = sampler.run_mcmc(pos, 4096)\n",
    "    \n",
    "    flatchains.append(sampler.flatchain)"
   ]
  },
  {
   "cell_type": "code",
   "execution_count": null,
   "metadata": {},
   "outputs": [],
   "source": [
    "labels = [r'$r$ [${\\rm pc}$]',\n",
    "          r'$v_\\alpha$ [${\\rm km}\\,{\\rm s}^{-1}$]',\n",
    "          r'$v_\\delta$ [${\\rm km}\\,{\\rm s}^{-1}$]',\n",
    "          r'$v_r$ [${\\rm km}\\,{\\rm s}^{-1}$]']\n",
    "\n",
    "kwargs = dict(bins=32, labels=labels, plot_density=False, plot_datapoints=False, alpha=0.5)\n",
    "\n",
    "fig = None\n",
    "for flatchain, color in zip(flatchains, ['#3182bd', '#de2d26']):\n",
    "    # dist, v_ra, v_dec, rvs = flatchain.T\n",
    "    \n",
    "    if fig is None:\n",
    "        fig = corner.corner(flatchain, color=color, **kwargs)\n",
    "    else:\n",
    "        fig = corner.corner(flatchain, color=color, fig=fig, **kwargs)\n",
    "        \n",
    "fig.set_facecolor('w')"
   ]
  },
  {
   "cell_type": "code",
   "execution_count": null,
   "metadata": {
    "collapsed": true
   },
   "outputs": [],
   "source": [
    "ws = []\n",
    "for color, flatchain, row in zip(colors, flatchains, rows):\n",
    "    dist, v_ra, v_dec, rvs = flatchain.T\n",
    "    skyc = coord.SkyCoord(ra=row['ra']*u.deg, dec=row['dec']*u.deg,\n",
    "                          distance=dist*u.pc)\n",
    "    \n",
    "    _pm = ([v_ra, v_dec]*u.km/u.s / (dist*u.pc)).to(u.mas/u.yr, u.dimensionless_angles())\n",
    "    \n",
    "    xyz = skyc.transform_to(gc_frame).cartesian.xyz.to(u.pc).value\n",
    "    vxyz = gc.vhel_to_gal(skyc, _pm, rvs*u.km/u.s, vlsr=vlsr, \n",
    "                          galactocentric_frame=gc_frame).to(u.km/u.s).value\n",
    "    ws.append(np.vstack((xyz, vxyz)).T)"
   ]
  },
  {
   "cell_type": "code",
   "execution_count": null,
   "metadata": {
    "collapsed": true
   },
   "outputs": [],
   "source": [
    "# corner.hist2d()"
   ]
  },
  {
   "cell_type": "code",
   "execution_count": null,
   "metadata": {},
   "outputs": [],
   "source": [
    "truth_color = '#31a354'\n",
    "ranges = [(-8,8), (-8,8), (-1,1), (-7,7), (-7,7), (-7,7)]\n",
    "bins = [np.linspace(x1,x2,128) for x1,x2 in ranges]\n",
    "labels = [r'$\\Delta x$ [${\\rm pc}$]',\n",
    "          r'$\\Delta y$ [${\\rm pc}$]',\n",
    "          r'$\\Delta z$ [${\\rm pc}$]',\n",
    "          r'$\\Delta v_x$ [${\\rm km}\\,{\\rm s}^{-1}$]',\n",
    "          r'$\\Delta v_y$ [${\\rm km}\\,{\\rm s}^{-1}$]',\n",
    "          r'$\\Delta v_z$ [${\\rm km}\\,{\\rm s}^{-1}$]']\n",
    "\n",
    "fig = corner.corner(ws[0]-ws[1], bins=bins, plot_density=False, \n",
    "                    plot_datapoints=False, fill_contours=True, labels=labels, \n",
    "                    levels=(1-np.exp(-0.5),1-np.exp(-2)), range=ranges)\n",
    "\n",
    "for i in range(6):\n",
    "    for j in range(6):\n",
    "        if j > i: \n",
    "            continue\n",
    "\n",
    "        fig.axes[6*i+j].axvline(0., color=truth_color, alpha=0.5, zorder=10)\n",
    "        if i > j:\n",
    "            fig.axes[6*i+j].axhline(0., color=truth_color, alpha=0.5, zorder=10)\n",
    "            fig.axes[6*i+j].scatter(0., 0., color=truth_color, marker='s', s=5, zorder=100)\n",
    "\n",
    "# fig.set_facecolor('w')\n",
    "fig.savefig('../paper/figures/dx_dv_posterior.pdf')"
   ]
  },
  {
   "cell_type": "markdown",
   "metadata": {},
   "source": [
    "# Integrate orbits"
   ]
  },
  {
   "cell_type": "code",
   "execution_count": null,
   "metadata": {},
   "outputs": [],
   "source": [
    "mw_potential = gp.CCompositePotential()\n",
    "mw_potential['spheroid'] = gp.HernquistPotential(m=5E9, c=0.7, units=galactic)\n",
    "mw_potential['halo'] = gp.NFWPotential(m=5E11*u.Msun, r_s=16., units=galactic)\n",
    "mw_potential['disk1'] = gp.MiyamotoNagaiPotential(m=6.5E10*u.Msun, a=3, b=0.273,\n",
    "                                                  units=galactic)\n",
    "# mw_potential['disk2'] = gp.MiyamotoNagaiPotential(m=1.0E10*u.Msun, a=3.5, b=0.15,\n",
    "#                                                   units=galactic)\n",
    "\n",
    "_xyzs = np.zeros((3,256))\n",
    "_xyzs[0] = np.linspace(0.1, 15., _xyzs.shape[1])\n",
    "\n",
    "plt.plot(_xyzs[0], mw_potential.circular_velocity(_xyzs), marker='')\n",
    "plt.axvline(8.3)\n",
    "plt.axhline(220)"
   ]
  },
  {
   "cell_type": "code",
   "execution_count": null,
   "metadata": {
    "collapsed": true
   },
   "outputs": [],
   "source": [
    "# from galpy.potential import MWPotential2014\n",
    "# from galpy.potential import evaluateDensities\n",
    "# from galpy.util import bovy_conversion\n",
    "# from galpy.orbit import Orbit\n",
    "\n",
    "# R = 4\n",
    "# zs = np.linspace(-1., 1., 256)\n",
    "# dens = evaluateDensities(MWPotential2014, np.full(256, R)*u.kpc, zs*u.kpc)\n",
    "# plt.plot(zs, dens*bovy_conversion.dens_in_msolpc3(220.,8.))\n",
    "\n",
    "# _xyz = np.zeros((3,len(zs)))\n",
    "# _xyz[0] = R\n",
    "# _xyz[2] = zs\n",
    "# dens2 = mw_potential.density(_xyz)\n",
    "# plt.plot(zs, dens2.to(u.Msun/u.pc**3))\n",
    "\n",
    "# o = Orbit(vxvv=[8.*u.kpc, 22.*u.km/u.s,242.*u.km/u.s, 0.*u.pc,20.*u.km/u.s])\n",
    "# ts = np.linspace(0,100,10000)\n",
    "# o.integrate(ts, MWPotential2014, method='odeint')\n",
    "# o.plot()"
   ]
  },
  {
   "cell_type": "code",
   "execution_count": null,
   "metadata": {
    "collapsed": true
   },
   "outputs": [],
   "source": [
    "HD_orbits = []\n",
    "for w in ws:\n",
    "    w = np.median(w, axis=0)    \n",
    "    w0 = gd.CartesianPhaseSpacePosition(pos=w[:3] * u.pc,\n",
    "                                        vel=w[3:] * u.km/u.s)\n",
    "\n",
    "    orbit = mw_potential.integrate_orbit(w0, dt=-0.5, n_steps=5000, \n",
    "                                         Integrator=gi.DOPRI853Integrator)\n",
    "    HD_orbits.append(orbit)\n",
    "    \n",
    "cyl,vcyl = orbit.represent_as(coord.CylindricalRepresentation)    "
   ]
  },
  {
   "cell_type": "code",
   "execution_count": null,
   "metadata": {
    "scrolled": false
   },
   "outputs": [],
   "source": [
    "dr = np.sqrt(np.sum((HD_orbits[1].pos - HD_orbits[0].pos)**2, axis=0)).to(u.pc)\n",
    "plt.plot(HD_orbits[0].t, dr)\n",
    "plt.yscale('log')\n",
    "plt.xlim(0, -500)\n",
    "plt.ylim(0, 100)"
   ]
  },
  {
   "cell_type": "code",
   "execution_count": null,
   "metadata": {
    "collapsed": true
   },
   "outputs": [],
   "source": [
    "sun_w0 = gd.CartesianPhaseSpacePosition(pos=[-8.3, 0, 0] * u.kpc,\n",
    "                                        vel=vlsr + [0, vcirc.to(u.km/u.s).value, 0.]*u.km/u.s)\n",
    "\n",
    "sun_orbit = mw_potential.integrate_orbit(sun_w0, dt=0.5, n_steps=5000, \n",
    "                                         Integrator=gi.DOPRI853Integrator)\n",
    "\n",
    "sun_cyl,_ = sun_orbit.represent_as(coord.CylindricalRepresentation)"
   ]
  },
  {
   "cell_type": "code",
   "execution_count": null,
   "metadata": {
    "collapsed": true
   },
   "outputs": [],
   "source": [
    "many_HD_orbits = []\n",
    "for w in ws:\n",
    "    idx = np.random.choice(len(w), size=1024, replace=False)\n",
    "    w = w[idx].T\n",
    "    w0 = gd.CartesianPhaseSpacePosition(pos=w[:3] * u.pc,\n",
    "                                        vel=w[3:] * u.km/u.s)\n",
    "\n",
    "    orbit = mw_potential.integrate_orbit(w0, dt=-1, n_steps=500, \n",
    "                                         Integrator=gi.DOPRI853Integrator)\n",
    "    many_HD_orbits.append(orbit)"
   ]
  },
  {
   "cell_type": "code",
   "execution_count": null,
   "metadata": {
    "scrolled": false
   },
   "outputs": [],
   "source": [
    "dr = np.sqrt(np.sum((many_HD_orbits[1].pos - many_HD_orbits[0].pos)**2, axis=0)).to(u.pc)\n",
    "plt.plot(many_HD_orbits[0].t, dr, marker='', alpha=0.025, color='k')\n",
    "plt.yscale('log')\n",
    "plt.xlim(0, -500)\n",
    "plt.ylim(0, 1000)\n",
    "plt.xlabel('time [Myr]')\n",
    "plt.ylabel('separation [pc]')"
   ]
  },
  {
   "cell_type": "code",
   "execution_count": null,
   "metadata": {
    "scrolled": false
   },
   "outputs": [],
   "source": [
    "fig,axes = plt.subplots(1, 2, figsize=(12,5))\n",
    "\n",
    "ax = axes[0]\n",
    "ax.plot(cyl.rho, cyl.z.to(u.pc), marker='', \n",
    "        label='HD 240429')\n",
    "ax.plot(sun_cyl.rho, sun_cyl.z.to(u.pc), marker='',\n",
    "        color='#666666', alpha=0.7, zorder=-10, label='Sun')\n",
    "ax.set_xlim(6.5, 10.5)\n",
    "ax.set_ylim(-320, 320)\n",
    "\n",
    "ax.legend(loc='upper right', fontsize=14)\n",
    "ax.set_xlabel('$R$ [kpc]')\n",
    "ax.set_ylabel('$z$ [pc]')\n",
    "\n",
    "ax = axes[1]\n",
    "ax.hist(np.max(np.abs(many_HD_orbits[0].pos[2]), axis=0).to(u.pc).value, bins=np.linspace(200,350,24))\n",
    "ax.set_xlim(150, 400)\n",
    "ax.set_xlabel(r'$\\max\\left(|z|\\right)$ [pc]')\n",
    "ax.set_ylabel('$N$')\n",
    "\n",
    "fig.tight_layout()\n",
    "\n",
    "fig.savefig('../paper/figures/orbits.pdf')"
   ]
  },
  {
   "cell_type": "code",
   "execution_count": null,
   "metadata": {
    "collapsed": true
   },
   "outputs": [],
   "source": [
    "# labels = [r'$r$ [${\\rm pc}$]',\n",
    "#           r'$v_\\alpha$ [${\\rm km}\\,{\\rm s}^{-1}$]',\n",
    "#           r'$v_\\delta$ [${\\rm km}\\,{\\rm s}^{-1}$]',\n",
    "#           r'$v_r$ [${\\rm km}\\,{\\rm s}^{-1}$]']\n",
    "\n",
    "# kwargs = dict(bins=32, labels=labels, plot_density=False, plot_datapoints=False, alpha=0.5)\n",
    "\n",
    "# fig = None\n",
    "# for flatchain, color in zip(flatchains, ['#3182bd', '#de2d26']):\n",
    "# #     dist, v_ra, v_dec, rvs = flatchain.T\n",
    "    \n",
    "#     if fig is None:\n",
    "#         fig = corner.corner(flatchain, color=color, **kwargs)\n",
    "#     else:\n",
    "#         fig = corner.corner(flatchain, color=color, fig=fig, **kwargs)\n",
    "        \n",
    "# fig.set_facecolor('w')"
   ]
  }
 ],
 "metadata": {
  "anaconda-cloud": {},
  "kernelspec": {
   "display_name": "Python [conda env:gala-dev]",
   "language": "python",
   "name": "conda-env-gala-dev-py"
  },
  "language_info": {
   "codemirror_mode": {
    "name": "ipython",
    "version": 3
   },
   "file_extension": ".py",
   "mimetype": "text/x-python",
   "name": "python",
   "nbconvert_exporter": "python",
   "pygments_lexer": "ipython3",
   "version": "3.5.2"
  }
 },
 "nbformat": 4,
 "nbformat_minor": 2
}